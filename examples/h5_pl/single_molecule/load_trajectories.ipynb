{
 "cells": [
  {
   "cell_type": "code",
   "execution_count": null,
   "metadata": {},
   "outputs": [],
   "source": [
    "from glob import glob\n",
    "import mdtraj as md\n",
    "import numpy as np\n",
    "from tqdm import tqdm"
   ]
  },
  {
   "cell_type": "code",
   "execution_count": null,
   "metadata": {},
   "outputs": [],
   "source": [
    "coord_files = sorted(glob(\"./sims/*coords_????.npy\"))"
   ]
  },
  {
   "cell_type": "code",
   "execution_count": null,
   "metadata": {},
   "outputs": [],
   "source": [
    "coords = []\n",
    "for file in tqdm(coord_files,desc=\"Loading coordinate file\"):\n",
    "    file_coord_arr = np.load(file)\n",
    "    coords.append(file_coord_arr)\n",
    "total_coords = np.hstack(coords)\n",
    "print(f\"Found {total_coords.shape[0]} trajectories of length {total_coords.shape[1]}\")"
   ]
  },
  {
   "cell_type": "code",
   "execution_count": null,
   "metadata": {},
   "outputs": [],
   "source": [
    "cg_pdb = md.load_pdb(\"1L2Y_cg_structure.pdb\")\n",
    "# we multiply the coordinates by 0.1 as our simulation code uses angstroms for the simulation \n",
    "# but MDTraj generaly requires that you pass the coordinates in nanometers\n",
    "trajs = [md.Trajectory(topology=cg_pdb.topology,xyz=coords*0.1) for coords in total_coords]"
   ]
  },
  {
   "cell_type": "code",
   "execution_count": null,
   "metadata": {},
   "outputs": [],
   "source": []
  }
 ],
 "metadata": {
  "kernelspec": {
   "display_name": "mlcg-torch21",
   "language": "python",
   "name": "python3"
  },
  "language_info": {
   "codemirror_mode": {
    "name": "ipython",
    "version": 3
   },
   "file_extension": ".py",
   "mimetype": "text/x-python",
   "name": "python",
   "nbconvert_exporter": "python",
   "pygments_lexer": "ipython3",
   "version": "3.11.6"
  }
 },
 "nbformat": 4,
 "nbformat_minor": 2
}
