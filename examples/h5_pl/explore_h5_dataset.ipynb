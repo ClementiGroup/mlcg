{
 "cells": [
  {
   "cell_type": "code",
   "execution_count": null,
   "id": "f406a1bd",
   "metadata": {},
   "outputs": [],
   "source": [
    "import matplotlib.pyplot as plt\n",
    "import seaborn as sns\n",
    "import torch\n",
    "import yaml\n",
    "import numpy as np\n",
    "import os.path as osp\n",
    "from glob import glob \n",
    "from copy import deepcopy\n",
    "from tqdm.notebook import tqdm"
   ]
  },
  {
   "cell_type": "code",
   "execution_count": null,
   "id": "7e66e3e3",
   "metadata": {},
   "outputs": [],
   "source": [
    "import sys\n",
    "sys.path.insert(0, '../../')\n",
    "from mlcg.datasets import H5Dataset\n",
    "from mlcg.utils import load_yaml, dump_yaml,makedirs\n"
   ]
  },
  {
   "cell_type": "code",
   "execution_count": null,
   "id": "00248019",
   "metadata": {},
   "outputs": [],
   "source": [
    "!ls"
   ]
  },
  {
   "cell_type": "markdown",
   "id": "45d2bf77",
   "metadata": {},
   "source": [
    "# build a H5Dataset"
   ]
  },
  {
   "cell_type": "code",
   "execution_count": null,
   "id": "c79fe541",
   "metadata": {},
   "outputs": [],
   "source": [
    "config = load_yaml('train_h5_1_10.yaml')['data']\n",
    "config['partition_options'] = load_yaml(config['partition_options'])\n",
    "config"
   ]
  },
  {
   "cell_type": "code",
   "execution_count": null,
   "id": "a915a80a",
   "metadata": {},
   "outputs": [],
   "source": [
    "dataset = H5Dataset(**config)"
   ]
  },
  {
   "cell_type": "code",
   "execution_count": null,
   "id": "d78070f7",
   "metadata": {},
   "outputs": [],
   "source": [
    "dataset._h5_root.keys()"
   ]
  },
  {
   "cell_type": "code",
   "execution_count": null,
   "id": "8f846b16",
   "metadata": {},
   "outputs": [],
   "source": [
    "list(dataset._h5_root[\"CATH\"].keys())"
   ]
  },
  {
   "cell_type": "markdown",
   "id": "4e107bb0",
   "metadata": {},
   "source": [
    "## make a new partition of the dataset"
   ]
  },
  {
   "cell_type": "code",
   "execution_count": null,
   "id": "9c33d338",
   "metadata": {},
   "outputs": [],
   "source": [
    "def split_names(dataset, target, f):\n",
    "    names = list(dataset._h5_root[target].keys())\n",
    "    N = len(names)\n",
    "    n_train = int(N*f)\n",
    "    ids = np.arange(N)\n",
    "    np.random.shuffle(ids)\n",
    "    train_ids = ids[:n_train]\n",
    "    test_ids = ids[n_train:]\n",
    "    return {'train':[names[idx] for idx in train_ids], 'val':[names[idx] for idx in test_ids]}"
   ]
  },
  {
   "cell_type": "code",
   "execution_count": null,
   "id": "1beebbd7",
   "metadata": {},
   "outputs": [],
   "source": [
    "f = 0.8\n",
    "partition_options = deepcopy(config['partition_options'])\n",
    "data = ['OPEP', 'CATH']\n",
    "for target in data:\n",
    "    out = split_names(dataset, target, f)\n",
    "    for k, ids in out.items():\n",
    "        partition_options[k]['metasets'][target]['molecules'] = ids"
   ]
  },
  {
   "cell_type": "code",
   "execution_count": null,
   "id": "571cdc7a",
   "metadata": {},
   "outputs": [],
   "source": [
    "dump_yaml(\"./partition_settings_new.yaml\", partition_options)"
   ]
  },
  {
   "cell_type": "code",
   "execution_count": null,
   "id": "e4636056",
   "metadata": {},
   "outputs": [],
   "source": []
  }
 ],
 "metadata": {
  "kernelspec": {
   "display_name": "Python 3 (ipykernel)",
   "language": "python",
   "name": "python3"
  },
  "language_info": {
   "codemirror_mode": {
    "name": "ipython",
    "version": 3
   },
   "file_extension": ".py",
   "mimetype": "text/x-python",
   "name": "python",
   "nbconvert_exporter": "python",
   "pygments_lexer": "ipython3",
   "version": "3.9.7"
  }
 },
 "nbformat": 4,
 "nbformat_minor": 5
}
