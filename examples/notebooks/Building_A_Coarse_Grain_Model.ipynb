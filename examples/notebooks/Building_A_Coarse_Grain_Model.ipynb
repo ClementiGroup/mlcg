{
 "cells": [
  {
   "cell_type": "markdown",
   "id": "7a94309c",
   "metadata": {},
   "source": [
    "# Building a CG Model of the Miniprotein Chignolin"
   ]
  },
  {
   "cell_type": "markdown",
   "id": "3b86b60b",
   "metadata": {},
   "source": [
    "Chignolin is a miniprotein that is ten amino acids in length. The variant CLN025 in particular shows three metastable molecular states, corresponding to folded, misfolded, and unfolded conformations. To build a CG force field for coarse grain molecular dynamics through force matching, we must first download and prepare a dataset in order to train our neural network. The dataset that we choose is composed of 3744 all-atom simulations of CLN025 at 350K using CHARMM22* via an adaptive sampling strategy. The data is publicly available at http://pub.htmd.org/chignolin_trajectories.tar.gz .\n",
    "\n",
    "For convenience, we have provided an example `torch_geometric.data.InMemoryDataset` class that automatically downloads, unzips, and organizes the data. Once the data is organized, the all-atom\n",
    "coordinates and forces are mapped to a 10 bead carbon alpha coarse grained representation. Using the mapped coordinate data, a baseline prior model according to [CGSchNet Ref] is parametetrized\n",
    "and used to subtract baseline coarse grain forces from the total coarse grain forces. The resulting \"delta forces\" can then be used as supervised learning targets for training coarse grain force\n",
    "field models through force matching.\n",
    "\n"
   ]
  },
  {
   "cell_type": "markdown",
   "id": "0c3e3649",
   "metadata": {},
   "source": [
    "## Loading the CLN025 Dataset"
   ]
  },
  {
   "cell_type": "code",
   "execution_count": 1,
   "id": "7294904e",
   "metadata": {},
   "outputs": [],
   "source": [
    "import matplotlib\n",
    "import matplotlib.pyplot as plt\n",
    "import networkx as nx\n",
    "import numpy as np\n",
    "import torch\n",
    "import sys"
   ]
  },
  {
   "cell_type": "code",
   "execution_count": 2,
   "id": "48e4ffbe",
   "metadata": {},
   "outputs": [],
   "source": [
    "sys.path.insert(0, \"../../\")\n",
    "from mlcg.datasets import ChignolinDataset\n",
    "from mlcg.geometry import get_connectivity_matrix"
   ]
  },
  {
   "cell_type": "markdown",
   "id": "b547c665",
   "metadata": {},
   "source": [
    "To download and process the data, we supply a path when instantiating the dataset. The coordinates, forces, topology, and other important information will be organized and stored in this directory. in total, the dataset is about ~7 GB:"
   ]
  },
  {
   "cell_type": "code",
   "execution_count": 3,
   "id": "94f1de48",
   "metadata": {},
   "outputs": [],
   "source": [
    "root = \"PATH/TO/STORE/THE/DATASET\"\n",
    "root = \"/net/data02/nickc/mlcg_cln\"\n",
    "# root = \"/local_scratch/musil/datasets/test\"\n",
    "dataset = ChignolinDataset(root)"
   ]
  },
  {
   "cell_type": "markdown",
   "id": "55d0669d",
   "metadata": {},
   "source": [
    "With the dataset downloaded and processed, we can take a closer look:"
   ]
  },
  {
   "cell_type": "code",
   "execution_count": 4,
   "id": "4015f324",
   "metadata": {},
   "outputs": [
    {
     "name": "stdout",
     "output_type": "stream",
     "text": [
      "CG mapped data:\n",
      "\n",
      " AtomicData(\n",
      "  out={},\n",
      "  pos=[18688610, 3],\n",
      "  traj_id=[1868861],\n",
      "  frame_id=[1868861],\n",
      "  atom_types=[18688610],\n",
      "  n_atoms=[1868861],\n",
      "  masses=[18688610],\n",
      "  forces=[18688610, 3],\n",
      "  neighbor_list={}\n",
      ")\n"
     ]
    }
   ],
   "source": [
    "print(\"CG mapped data:\\n\\n\", dataset.data)"
   ]
  },
  {
   "cell_type": "markdown",
   "id": "3bd0c7f3",
   "metadata": {},
   "source": [
    "Altogether, we have an aggregate ~1.8M frames of trajectory data (for both coordinates and forces). The collated data also contains information about the masses and the neighborlists associated with the features of the baseline/prior model (see below). We can also visualize how the different CG beads are typed. `mlcg.geometry.topology` contains several useful tools for graph related operations. Here, we use `get_connectivity_matrix` to generate a connectivity/adjacency matrix associated with the bonded structure of our CG mapping of Chignolin. This matrix can be used directly with `networkx`:"
   ]
  },
  {
   "cell_type": "code",
   "execution_count": 5,
   "id": "dcc501a4",
   "metadata": {
    "scrolled": false
   },
   "outputs": [
    {
     "data": {
      "image/png": "[encoded data removed]",
      "text/plain": [
       "<Figure size 432x288 with 1 Axes>"
      ]
     },
     "metadata": {},
     "output_type": "display_data"
    }
   ],
   "source": [
    "dataset.topologies.draw(\n",
    "    layout_kwargs={\"seed\": 7},\n",
    "    drawing_kwargs={\"node_size\": 3000, \"width\": 5, \"edgecolors\": \"black\"},\n",
    ")"
   ]
  },
  {
   "cell_type": "markdown",
   "id": "d45a1b3f",
   "metadata": {},
   "source": [
    "Here, we see that integer type have been assigned to each of the 10 carbon alpha atoms according to its amino acid identity, while allocating special types for the terminal TYR1 and TYR10 carbon alpha atoms. We can also inspect the baseline model that produced the delta forces that will be used for training the model describing the CG forcefeild:"
   ]
  },
  {
   "cell_type": "code",
   "execution_count": 6,
   "id": "d85298e0",
   "metadata": {},
   "outputs": [
    {
     "name": "stdout",
     "output_type": "stream",
     "text": [
      "ModuleDict(\n",
      "  (bonds): GradientsOut(\n",
      "    (model): HarmonicBonds()\n",
      "  )\n",
      "  (angles): GradientsOut(\n",
      "    (model): HarmonicAngles()\n",
      "  )\n",
      "  (repulsion): GradientsOut(\n",
      "    (model): Repulsion()\n",
      "  )\n",
      ")\n"
     ]
    }
   ],
   "source": [
    "print(dataset.prior_models)"
   ]
  },
  {
   "cell_type": "markdown",
   "id": "79bd1152",
   "metadata": {},
   "source": [
    "We see that our baseline model contains three prior types, which are defined in `mlcg.nn.prior`: `HarmonicBonds` to constrain sequential carbon alpha pairs and `HarmonicAngles` to constrain sequential carbon alpha triplets along the molecular backbone. These two priors keep the CG molecule from breaking apart or becoming too flexible. The baseline model also employs a `Repulsion` prior to all non-bonded carbon alpha atoms, which helps to prevent distant parts of the CG molecule from overlapping or collapsing on itself."
   ]
  },
  {
   "cell_type": "markdown",
   "id": "11394fa2",
   "metadata": {},
   "source": [
    "## Training a Model "
   ]
  },
  {
   "cell_type": "markdown",
   "id": "77c1a66e",
   "metadata": {},
   "source": [
    "With the dataset downloaded and processed, we can now build and train a model to predict CG forces and energies. For our model, we choose CGSchNet, based on [CGSchNet](https://doi.org/10.1063/5.0026133). CGSchNet is an extended version of the SchNet graph neural network architecture for CG molecular systems. It accepts coordinates (specifically pairwise distances) and CG atom types as model inputs, and predicts CG energies and cartesian forces that can later be used for generative CG simulation. \n",
    "\n",
    "To train the model, normally, we use PyTorch Lightning CLI, which removes training boiler plate code/scripts by using training and model parameters specified entirely in a configuration `YAML` file. If users wish to make more general models, or if they prefer to implement their own training routines, all neural network and prior utilities are contained in the `mlcg.nn` subpackage. Here, we explicitly build a model from scratch to showcase both structure and flexibility:"
   ]
  },
  {
   "cell_type": "markdown",
   "id": "18c0429f",
   "metadata": {},
   "source": [
    "For a SchNet model, we must first choose our Radial basis and Cutoff functions for the filter generating network. For this example, we choose `ExpNormalBasis` based on the PhysNet-style RBFs introduced in [Physnet](https://doi.org/10.1021/acs.jctc.9b00181). Since this basis already contains a `CosineCutoff` envelope, we simply use `IdentityCutoff` for our cutoff function. We can directly visualize our basis using tools from `mlcg.nn.radial_basis`:"
   ]
  },
  {
   "cell_type": "code",
   "execution_count": 7,
   "id": "42e4bafa",
   "metadata": {},
   "outputs": [
    {
     "data": {
      "image/png": "[encoded data removed]",
      "text/plain": [
       "<Figure size 432x288 with 1 Axes>"
      ]
     },
     "metadata": {
      "needs_background": "light"
     },
     "output_type": "display_data"
    }
   ],
   "source": [
    "from mlcg.nn.radial_basis import ExpNormalBasis, visualize_basis\n",
    "from mlcg.nn.cutoff import IdentityCutoff\n",
    "\n",
    "cutoff_lower = 0.00\n",
    "cutoff_upper = 20.00\n",
    "num_rbf = 64\n",
    "\n",
    "cutoff_fn = IdentityCutoff(cutoff_lower=cutoff_lower, cutoff_upper=cutoff_upper)\n",
    "rbf_layer = ExpNormalBasis(\n",
    "    cutoff_lower=cutoff_lower, cutoff_upper=cutoff_upper, num_rbf=64\n",
    ")\n",
    "visualize_basis(rbf_layer)"
   ]
  },
  {
   "cell_type": "markdown",
   "id": "70d4173f",
   "metadata": {},
   "source": [
    "We can see that our basis offers higher filter resolution at smaller distances, while larger distances the filter resolution is more broad and the natural response is weaker. Next, we are ready to make our full SchNet enegy model. Although we have the freedom to assemble more modular constructions through the use of the `SchNet` class, we will instead use a convenient subclass called `StandardSchNet` that only needs a cutoff and an RBF layer. The remaining options can be specified through keyword arguments."
   ]
  },
  {
   "cell_type": "code",
   "execution_count": 8,
   "id": "36536a7c",
   "metadata": {},
   "outputs": [],
   "source": [
    "from mlcg.nn import StandardSchNet\n",
    "\n",
    "schnet_params = {\n",
    "    \"max_num_neighbors\": 50,\n",
    "    \"embedding_size\": 44,\n",
    "    \"num_interactions\": 3,\n",
    "    \"num_filters\": 128,\n",
    "    \"hidden_channels\": 128,\n",
    "    \"output_hidden_layer_widths\": [128, 128],\n",
    "    \"activation\": torch.nn.Tanh(),\n",
    "    \"aggr\": \"add\",\n",
    "}\n",
    "\n",
    "energy_model = StandardSchNet(rbf_layer, cutoff_fn, **schnet_params)"
   ]
  },
  {
   "cell_type": "markdown",
   "id": "52fc64f3",
   "metadata": {},
   "source": [
    "Our SchNet model can predict scalar energies for each example/structure passsed to it in a batch of data. These energies are stored in the `out` field of an `AtomicData` instance that passes through the model. However, to train our model using force matching we must extract CG forces from the predicted CG energies through a gradient operation. To achieve this, we wrap our SchNet model with a `GradientsOut` model. `GradientsOut` simply requires an energy model and a list of prediction targets that can be acquired through gradient operations. In this case, we specify our gradient wrapper to calculate the CG forces. In pricple, any model can be wrapped by any operation, data outputs are always stored in `AtomicData.out`, so it is possible to retreive higher order gradients or transform the energy into other physical properties:"
   ]
  },
  {
   "cell_type": "code",
   "execution_count": 9,
   "id": "20461397",
   "metadata": {},
   "outputs": [],
   "source": [
    "from mlcg.nn.gradients import GradientsOut\n",
    "\n",
    "full_model = GradientsOut(energy_model, targets=[\"forces\"])"
   ]
  },
  {
   "cell_type": "markdown",
   "id": "326a07e2",
   "metadata": {},
   "source": [
    "Next, to train our model, we can use Pytorch Lighning utilities `PLModel` and `DataModule`, which handle optimization of the model parameters and migration of data from the dataset to the model respectively. The former requires a loss function and a pytorch optimizer class path. For the loss function, we choose `ForceRMSE`, which reports the root-mean-square error between predicted CG forces and reference forces. The `DataModule` accepts our Chignolin dataset instanced above. In order to save time, we stride the training data by a factor of 100 (though this will obviously result in reduced accuracy in the trained model):"
   ]
  },
  {
   "cell_type": "code",
   "execution_count": 10,
   "id": "b3105852",
   "metadata": {},
   "outputs": [
    {
     "name": "stdout",
     "output_type": "stream",
     "text": [
      "mkdir: cannot create directory ‘./train/’: File exists\r\n"
     ]
    }
   ],
   "source": [
    "# directory used to save training informations\n",
    "TRAIN_PATH = \"./train/\"\n",
    "!mkdir $TRAIN_PATH"
   ]
  },
  {
   "cell_type": "code",
   "execution_count": 11,
   "id": "8b94b3c5",
   "metadata": {},
   "outputs": [
    {
     "name": "stderr",
     "output_type": "stream",
     "text": [
      "Global seed set to 12659843\n"
     ]
    }
   ],
   "source": [
    "import pytorch_lightning as pl\n",
    "from mlcg.nn.losses import ForceRMSE\n",
    "from mlcg.pl import PLModel, DataModule\n",
    "\n",
    "loss_fn = ForceRMSE(\"forces\")\n",
    "pl.seed_everything(12659843)\n",
    "optimizer_dict = {\"class_path\": \"torch.optim.Adam\", \"init_args\": {\"lr\": 5e-4}}\n",
    "lr_scheduler = {\n",
    "    \"class_path\": \"torch.optim.lr_scheduler.ReduceLROnPlateau\",\n",
    "    \"init_args\": {\n",
    "        \"factor\": 0.9,\n",
    "        \"patience\": 10,\n",
    "        \"min_lr\": 1e-5,\n",
    "    },\n",
    "}\n",
    "plmodel = PLModel(full_model, loss_fn, optimizer_dict, lr_scheduler)\n",
    "dm = DataModule(dataset, log_dir=TRAIN_PATH, loading_stride=1000, num_workers=3)"
   ]
  },
  {
   "cell_type": "markdown",
   "id": "29121fbd",
   "metadata": {},
   "source": [
    "We can now combine our `PLModel` and `DataModule` by using the Pytorch Lightning `Trainer` object. `Trainer`can be supplied with callbacks, schedulers, etc. The `Trainer` can also take advantage of useful logging tools such as TensorBoard. For this example, we choose to train only using the CPU, but it is very simple to specify GPU training by chaning the `torch.device`."
   ]
  },
  {
   "cell_type": "code",
   "execution_count": 12,
   "id": "622fe658",
   "metadata": {},
   "outputs": [
    {
     "name": "stderr",
     "output_type": "stream",
     "text": [
      "GPU available: True, used: False\n",
      "TPU available: False, using: 0 TPU cores\n",
      "IPU available: False, using: 0 IPUs\n",
      "/home/nickc/miniconda3/envs/mlcg/lib/python3.9/site-packages/pytorch_lightning-1.5.0rc1-py3.9.egg/pytorch_lightning/trainer/trainer.py:1481: UserWarning: GPU available but not used. Set the gpus flag in your trainer `Trainer(gpus=1)` or script `--gpus=1`.\n",
      "  rank_zero_warn(\n"
     ]
    }
   ],
   "source": [
    "from pytorch_lightning.callbacks import LearningRateMonitor, EarlyStopping\n",
    "from pytorch_lightning.callbacks.model_checkpoint import ModelCheckpoint\n",
    "\n",
    "\n",
    "checkpoint_callback = ModelCheckpoint(\n",
    "    dirpath=TRAIN_PATH,\n",
    "    monitor=\"validation_loss\",\n",
    "    save_top_k=-1,  # -1 to save all\n",
    "    every_n_epochs=1,\n",
    "    filename=\"{epoch}-{validation_loss:.4f}\",\n",
    "    save_last=True,\n",
    ")\n",
    "\n",
    "lr_monitor = LearningRateMonitor(logging_interval=\"epoch\")\n",
    "early_stopping = EarlyStopping(\n",
    "    monitor=\"validation_loss\", patience=10, min_delta=5e-2\n",
    ")\n",
    "tb_logger = pl.loggers.TensorBoardLogger(\n",
    "    TRAIN_PATH, name=\"tensorbord\", version=\"\"\n",
    ")\n",
    "csv_logger = pl.loggers.CSVLogger(TRAIN_PATH, name=\"\", version=\"\")\n",
    "\n",
    "trainer = pl.Trainer(\n",
    "    max_epochs=50,\n",
    "    accelerator=\"cpu\",\n",
    "    devices=1,\n",
    "    precision=32,\n",
    "    auto_lr_find=False,\n",
    "    enable_checkpointing=True,\n",
    "    callbacks=[checkpoint_callback, lr_monitor, early_stopping],\n",
    "    logger=[tb_logger, csv_logger],\n",
    "    log_every_n_steps=1,\n",
    "    reload_dataloaders_every_epoch=False,\n",
    ")"
   ]
  },
  {
   "cell_type": "markdown",
   "id": "05067346",
   "metadata": {},
   "source": [
    "We can begin training our model by calling the `Trainer.fit` method and supplying our `PLModel` and `DataModule`. For this demonstration, we do not include a validation set or a "
   ]
  },
  {
   "cell_type": "code",
   "execution_count": null,
   "id": "d618e4da",
   "metadata": {
    "scrolled": false
   },
   "outputs": [
    {
     "name": "stderr",
     "output_type": "stream",
     "text": [
      "/home/nickc/miniconda3/envs/mlcg/lib/python3.9/site-packages/pytorch_lightning-1.5.0rc1-py3.9.egg/pytorch_lightning/trainer/configuration_validator.py:156: UserWarning: you defined a validation_step but have no val_dataloader. Skipping val loop\n",
      "  rank_zero_warn(f\"you defined a {step_name} but have no {loader_name}. Skipping {stage} loop\")\n"
     ]
    },
    {
     "name": "stdout",
     "output_type": "stream",
     "text": [
      "Starting training at Mon Nov  8 15:10:01 2021\n"
     ]
    },
    {
     "name": "stderr",
     "output_type": "stream",
     "text": [
      "/home/nickc/miniconda3/envs/mlcg/lib/python3.9/site-packages/pytorch_lightning-1.5.0rc1-py3.9.egg/pytorch_lightning/loggers/csv_logs.py:57: UserWarning: Experiment logs directory ./train/ exists and is not empty. Previous log files in this directory will be deleted when the new ones are saved!\n",
      "  rank_zero_warn(\n",
      "\n",
      "  | Name  | Type         | Params\n",
      "---------------------------------------\n",
      "0 | model | GradientsOut | 261 K \n",
      "1 | loss  | ForceRMSE    | 0     \n",
      "---------------------------------------\n",
      "261 K     Trainable params\n",
      "0         Non-trainable params\n",
      "261 K     Total params\n",
      "1.047     Total estimated model params size (MB)\n",
      "/home/nickc/miniconda3/envs/mlcg/lib/python3.9/site-packages/pytorch_lightning-1.5.0rc1-py3.9.egg/pytorch_lightning/callbacks/model_checkpoint.py:617: UserWarning: Checkpoint directory /home/nickc/local/mlcg-tools/examples/notebooks/train exists and is not empty.\n",
      "  rank_zero_warn(f\"Checkpoint directory {dirpath} exists and is not empty.\")\n"
     ]
    },
    {
     "data": {
      "application/vnd.jupyter.widget-view+json": {
       "model_id": "",
       "version_major": 2,
       "version_minor": 0
      },
      "text/plain": [
       "Validation sanity check: 0it [00:00, ?it/s]"
      ]
     },
     "metadata": {},
     "output_type": "display_data"
    },
    {
     "name": "stderr",
     "output_type": "stream",
     "text": [
      "Global seed set to 12659843\n"
     ]
    },
    {
     "data": {
      "application/vnd.jupyter.widget-view+json": {
       "model_id": "5fd3585fb98645a1b985ec1fcdc7d254",
       "version_major": 2,
       "version_minor": 0
      },
      "text/plain": [
       "Training: 0it [00:00, ?it/s]"
      ]
     },
     "metadata": {},
     "output_type": "display_data"
    },
    {
     "data": {
      "application/vnd.jupyter.widget-view+json": {
       "model_id": "",
       "version_major": 2,
       "version_minor": 0
      },
      "text/plain": [
       "Validating: 0it [00:00, ?it/s]"
      ]
     },
     "metadata": {},
     "output_type": "display_data"
    },
    {
     "data": {
      "application/vnd.jupyter.widget-view+json": {
       "model_id": "6bc20f44fc884ff8b20492fd6c607f7a",
       "version_major": 2,
       "version_minor": 0
      },
      "text/plain": [
       "Validating: 0it [00:00, ?it/s]"
      ]
     },
     "metadata": {},
     "output_type": "display_data"
    }
   ],
   "source": [
    "from time import ctime\n",
    "\n",
    "print(f\"Starting training at {ctime()}\")\n",
    "trainer.fit(plmodel, dm)\n",
    "print(f\"Ending training at {ctime()}\")"
   ]
  },
  {
   "cell_type": "markdown",
   "id": "0418bee4",
   "metadata": {},
   "source": [
    "We can inspect the results of our training according to our metrics:"
   ]
  },
  {
   "cell_type": "markdown",
   "id": "aef880cd",
   "metadata": {},
   "source": [
    "## Using a Trained Model as a CG Force Feild"
   ]
  },
  {
   "cell_type": "markdown",
   "id": "935b9e1b",
   "metadata": {},
   "source": [
    "With our model trained, we can use its ability to predict forces as a component of a CG molecular dynamics simulation. Currently, we implement Langevin and overdamped Langevin simulation schemes - here we will test the practical performance of our trained model using a Langevin simulation. To run a simulation, we can instance the `LangevinSimulation` class defined in `mlcg.simulation` and set some parameters, such as the inverse temperature, the length of the simulation, the integration timstep, the dynamical friction, etc."
   ]
  },
  {
   "cell_type": "code",
   "execution_count": null,
   "id": "46586cf2",
   "metadata": {},
   "outputs": [],
   "source": [
    "SIM_PATH = \"./simulate/\"\n",
    "!mkdir $SIM_PATH"
   ]
  },
  {
   "cell_type": "code",
   "execution_count": null,
   "id": "eab70acc",
   "metadata": {},
   "outputs": [],
   "source": [
    "from mlcg.simulation import LangevinSimulation\n",
    "\n",
    "n_timesteps = 10000\n",
    "save_interval = 10\n",
    "export_interval = 1000\n",
    "log_interval = 1000\n",
    "dt = 0.004\n",
    "friction = 1.0\n",
    "beta = dataset.beta\n",
    "filename = \"simulate/cln_model\"\n",
    "\n",
    "simulation = LangevinSimulation(\n",
    "    friction,\n",
    "    dt=dt,\n",
    "    beta=beta,\n",
    "    n_timesteps=n_timesteps,\n",
    "    save_interval=save_interval,\n",
    "    export_interval=export_interval,\n",
    "    log_interval=log_interval,\n",
    "    filename=filename,\n",
    ")"
   ]
  },
  {
   "cell_type": "markdown",
   "id": "d695af2c",
   "metadata": {},
   "source": [
    "Once the simulation has been set up, we must pass it a list of `AtomicData` containing the initial coordinates, atom types, and masses. For this demonstration, we select 10 random frames from the entire dataset. Because we are now simulating with priors, we must make sure to supply our `AtomicData`s with the poper neighbor list for each prior:\n"
   ]
  },
  {
   "cell_type": "code",
   "execution_count": null,
   "id": "3a92514f",
   "metadata": {},
   "outputs": [],
   "source": [
    "prior_nls = {}\n",
    "for model in dataset.priors_cls:\n",
    "    prior_nls.update(**model.neighbor_list(dataset.topologies))\n",
    "\n",
    "full_idx = np.arange(len(dataset))\n",
    "chosen_idx = np.random.choice(full_idx, 10)\n",
    "\n",
    "initial_data_list = []\n",
    "for idx in chosen_idx:\n",
    "    data = dataset.get(idx)\n",
    "    data.neighbor_list = prior_nls\n",
    "    initial_data_list.append(data)\n",
    "print(initial_data_list[0])"
   ]
  },
  {
   "cell_type": "markdown",
   "id": "bdc3355c",
   "metadata": {},
   "source": [
    "Because our model was trained using delta forces, we must combine our trained model with the original baseline forces/priors in order to simulate physically meaningful resutls. To accomplish this, we can use the `SumOut` class defined in `mlcg.nn.gradients`. `SumOut` aggregates the properties predicted in `AtomicData.out` over multiple models. In this case, we want to combine our trained SchNet model with the priors that were used to define the original delta forces. For simplicity, we use a helper method from `mlcg.pl` produce our model for simulation, but in principle `SumOut` can be used to combine arbitrary models together - once again taking advantage of the fact that the output of each model is stored individually in `AtomicData.out` by model name."
   ]
  },
  {
   "cell_type": "code",
   "execution_count": null,
   "id": "dc3b5c36",
   "metadata": {},
   "outputs": [],
   "source": [
    "from mlcg.pl import merge_priors_and_checkpoint\n",
    "\n",
    "model = merge_priors_and_checkpoint(\"train/last.ckpt\", dataset.prior_models)\n",
    "model"
   ]
  },
  {
   "cell_type": "markdown",
   "id": "75403abc",
   "metadata": {},
   "source": [
    "With the model and initial data ready, we can attach both to our simulation instance and run the simulation:"
   ]
  },
  {
   "cell_type": "code",
   "execution_count": null,
   "id": "230f93e4",
   "metadata": {},
   "outputs": [],
   "source": [
    "simulation.attach_configurations(initial_data_list)\n",
    "simulation.attach_model(model)\n",
    "\n",
    "print(f\"Starting simulation at {ctime()}\")\n",
    "cg_traj = simulation.simulate()\n",
    "print(f\"Ending simulation at {ctime()}\")\n",
    "print(\"simulation output:\", cg_traj.shape)"
   ]
  },
  {
   "cell_type": "markdown",
   "id": "96d11ac8",
   "metadata": {},
   "source": [
    "We see that our output has a shape `(n_sims, n_saved_configurations, n_atoms, 3)`.With the training complete, our CG trajectory is ready for analysis via MDTraj or PyEmma tools. We suggest following the tutorials [Here](http://www.emma-project.org/latest/tutorials/notebooks/00-pentapeptide-showcase.html) for analyzing free energy surfaces for high dimensional systems."
   ]
  },
  {
   "cell_type": "code",
   "execution_count": null,
   "id": "05a632c4",
   "metadata": {},
   "outputs": [],
   "source": []
  }
 ],
 "metadata": {
  "interpreter": {
   "hash": "527ea2ca627c63b749937ceb479d8cbab2a946f20c5dd6047d977cc7be213261"
  },
  "kernelspec": {
   "display_name": "Python 3 (ipykernel)",
   "language": "python",
   "name": "python3"
  },
  "language_info": {
   "codemirror_mode": {
    "name": "ipython",
    "version": 3
   },
   "file_extension": ".py",
   "mimetype": "text/x-python",
   "name": "python",
   "nbconvert_exporter": "python",
   "pygments_lexer": "ipython3",
   "version": "3.9.7"
  }
 },
 "nbformat": 4,
 "nbformat_minor": 5
}
